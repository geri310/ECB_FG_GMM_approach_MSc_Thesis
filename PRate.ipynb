{
 "cells": [
  {
   "cell_type": "code",
   "execution_count": 1,
   "metadata": {},
   "outputs": [],
   "source": [
    "#import all the necessary packages\n",
    "import os\n",
    "import pandas as pd\n",
    "import numpy as np\n",
    "import seaborn as sns\n",
    "import glob\n",
    "import matplotlib.pyplot as plt\n",
    "import seaborn as sns\n",
    "import pickle as pk\n",
    "sns.set()"
   ]
  },
  {
   "cell_type": "code",
   "execution_count": 2,
   "metadata": {},
   "outputs": [],
   "source": [
    "#set the working and the data directories\n",
    "path = os.getcwd()\n",
    "pathdata = path+'/Data'\n",
    "os.chdir(pathdata)"
   ]
  },
  {
   "cell_type": "code",
   "execution_count": 3,
   "metadata": {},
   "outputs": [
    {
     "data": {
      "text/plain": [
       "'/Users/geri/Documents/tisem/thesis/GitHub/thesis-master/data'"
      ]
     },
     "execution_count": 3,
     "metadata": {},
     "output_type": "execute_result"
    }
   ],
   "source": [
    "os.getcwd()"
   ]
  },
  {
   "cell_type": "code",
   "execution_count": 6,
   "metadata": {},
   "outputs": [],
   "source": [
    "#read the excel file with dates for the forecasts\n",
    "dates = pd.read_excel('SPF_rounds_dates.xlsx')\n",
    "new_header = dates.iloc[0] \n",
    "dates = dates[1:] \n",
    "dates.columns = new_header\n",
    "dates = dates.dropna()"
   ]
  },
  {
   "cell_type": "code",
   "execution_count": 7,
   "metadata": {},
   "outputs": [
    {
     "data": {
      "text/plain": [
       "85"
      ]
     },
     "execution_count": 7,
     "metadata": {},
     "output_type": "execute_result"
    }
   ],
   "source": [
    "#get all the unique dates\n",
    "len(dates['Deadline to reply'].unique())"
   ]
  },
  {
   "cell_type": "code",
   "execution_count": 8,
   "metadata": {},
   "outputs": [
    {
     "data": {
      "text/html": [
       "<div>\n",
       "<style scoped>\n",
       "    .dataframe tbody tr th:only-of-type {\n",
       "        vertical-align: middle;\n",
       "    }\n",
       "\n",
       "    .dataframe tbody tr th {\n",
       "        vertical-align: top;\n",
       "    }\n",
       "\n",
       "    .dataframe thead th {\n",
       "        text-align: right;\n",
       "    }\n",
       "</style>\n",
       "<table border=\"1\" class=\"dataframe\">\n",
       "  <thead>\n",
       "    <tr style=\"text-align: right;\">\n",
       "      <th></th>\n",
       "      <th>SPF round</th>\n",
       "      <th>Questionnaire\\n sent out</th>\n",
       "      <th>Deadline to reply</th>\n",
       "      <th>Results published1\\n (all or some aggregate results)2</th>\n",
       "    </tr>\n",
       "  </thead>\n",
       "  <tbody>\n",
       "    <tr>\n",
       "      <th>3</th>\n",
       "      <td>1999Q1</td>\n",
       "      <td>1999-02-05 00:00:00</td>\n",
       "      <td>1999-02-12 00:00:00</td>\n",
       "      <td>not published</td>\n",
       "    </tr>\n",
       "    <tr>\n",
       "      <th>4</th>\n",
       "      <td>1999Q2</td>\n",
       "      <td>1999-04-26 00:00:00</td>\n",
       "      <td>1999-05-03 00:00:00</td>\n",
       "      <td>not published</td>\n",
       "    </tr>\n",
       "    <tr>\n",
       "      <th>5</th>\n",
       "      <td>1999Q3</td>\n",
       "      <td>1999-07-26 00:00:00</td>\n",
       "      <td>1999-08-06 00:00:00</td>\n",
       "      <td>not published</td>\n",
       "    </tr>\n",
       "    <tr>\n",
       "      <th>6</th>\n",
       "      <td>1999Q4</td>\n",
       "      <td>1999-10-27 00:00:00</td>\n",
       "      <td>1999-11-03 00:00:00</td>\n",
       "      <td>1999-12-09 00:00:00</td>\n",
       "    </tr>\n",
       "    <tr>\n",
       "      <th>7</th>\n",
       "      <td>2000Q1</td>\n",
       "      <td>2000-02-02 00:00:00</td>\n",
       "      <td>2000-02-09 00:00:00</td>\n",
       "      <td>2000-03-09 00:00:00</td>\n",
       "    </tr>\n",
       "    <tr>\n",
       "      <th>...</th>\n",
       "      <td>...</td>\n",
       "      <td>...</td>\n",
       "      <td>...</td>\n",
       "      <td>...</td>\n",
       "    </tr>\n",
       "    <tr>\n",
       "      <th>83</th>\n",
       "      <td>2019Q1</td>\n",
       "      <td>2019-01-07 00:00:00</td>\n",
       "      <td>2019-01-11 00:00:00</td>\n",
       "      <td>2019-01-25 00:00:00</td>\n",
       "    </tr>\n",
       "    <tr>\n",
       "      <th>84</th>\n",
       "      <td>2019Q2</td>\n",
       "      <td>2019-03-18 00:00:00</td>\n",
       "      <td>2019-03-22 00:00:00</td>\n",
       "      <td>2019-04-11 00:00:00</td>\n",
       "    </tr>\n",
       "    <tr>\n",
       "      <th>85</th>\n",
       "      <td>2019Q3</td>\n",
       "      <td>2019-07-01 00:00:00</td>\n",
       "      <td>2019-07-05 00:00:00</td>\n",
       "      <td>2019-07-26 00:00:00</td>\n",
       "    </tr>\n",
       "    <tr>\n",
       "      <th>86</th>\n",
       "      <td>2019Q4</td>\n",
       "      <td>2019-10-01 00:00:00</td>\n",
       "      <td>2019-10-07 00:00:00</td>\n",
       "      <td>2019-10-25 00:00:00</td>\n",
       "    </tr>\n",
       "    <tr>\n",
       "      <th>87</th>\n",
       "      <td>2020Q1</td>\n",
       "      <td>2020-01-07 00:00:00</td>\n",
       "      <td>2020-01-13 00:00:00</td>\n",
       "      <td>2020-01-24 00:00:00</td>\n",
       "    </tr>\n",
       "  </tbody>\n",
       "</table>\n",
       "<p>85 rows × 4 columns</p>\n",
       "</div>"
      ],
      "text/plain": [
       "0  SPF round Questionnaire\\n sent out    Deadline to reply  \\\n",
       "3     1999Q1      1999-02-05 00:00:00  1999-02-12 00:00:00   \n",
       "4     1999Q2      1999-04-26 00:00:00  1999-05-03 00:00:00   \n",
       "5     1999Q3      1999-07-26 00:00:00  1999-08-06 00:00:00   \n",
       "6     1999Q4      1999-10-27 00:00:00  1999-11-03 00:00:00   \n",
       "7     2000Q1      2000-02-02 00:00:00  2000-02-09 00:00:00   \n",
       "..       ...                      ...                  ...   \n",
       "83    2019Q1      2019-01-07 00:00:00  2019-01-11 00:00:00   \n",
       "84    2019Q2      2019-03-18 00:00:00  2019-03-22 00:00:00   \n",
       "85    2019Q3      2019-07-01 00:00:00  2019-07-05 00:00:00   \n",
       "86    2019Q4      2019-10-01 00:00:00  2019-10-07 00:00:00   \n",
       "87    2020Q1      2020-01-07 00:00:00  2020-01-13 00:00:00   \n",
       "\n",
       "0  Results published1\\n (all or some aggregate results)2  \n",
       "3                                       not published     \n",
       "4                                       not published     \n",
       "5                                       not published     \n",
       "6                                 1999-12-09 00:00:00     \n",
       "7                                 2000-03-09 00:00:00     \n",
       "..                                                ...     \n",
       "83                                2019-01-25 00:00:00     \n",
       "84                                2019-04-11 00:00:00     \n",
       "85                                2019-07-26 00:00:00     \n",
       "86                                2019-10-25 00:00:00     \n",
       "87                                2020-01-24 00:00:00     \n",
       "\n",
       "[85 rows x 4 columns]"
      ]
     },
     "execution_count": 8,
     "metadata": {},
     "output_type": "execute_result"
    }
   ],
   "source": [
    "dates"
   ]
  },
  {
   "cell_type": "code",
   "execution_count": 9,
   "metadata": {},
   "outputs": [],
   "source": [
    "df = pd.DataFrame(columns=['SurveyDate', 'Source','CurrentIR', 'IRQ1', 'IRQ2', 'IRQ3', 'IRQ4'])\n",
    "df['SurveyDate'] = dates['Deadline to reply'].repeat(128)\n",
    "for each_date in dates['Deadline to reply'].unique():\n",
    "    df.loc[df.SurveyDate == each_date,'Source'] = list(range(1,129))"
   ]
  },
  {
   "cell_type": "code",
   "execution_count": 10,
   "metadata": {},
   "outputs": [],
   "source": [
    "mtoQ = {1: 1, 2: 1, 3:2, 4:2, 5:2, 7:3, 8:3, 10: 4, 11:4}"
   ]
  },
  {
   "cell_type": "code",
   "execution_count": 11,
   "metadata": {},
   "outputs": [],
   "source": [
    "def qsahead(curr_forecast):\n",
    "    Qs = []\n",
    "    year = curr_forecast.year\n",
    "    month = curr_forecast.month\n",
    "    currQ = mtoQ[month]\n",
    "    residQ = 5 - (4 - currQ + 1)\n",
    "    for i in range(currQ, 5):\n",
    "        qnew = str(year)+\"Q\"+str(i)\n",
    "        Qs.append(qnew)\n",
    "    yearnew = year + 1\n",
    "    for i in range(1, residQ + 1):\n",
    "        qnew = str(yearnew)+\"Q\"+str(i) \n",
    "        Qs.append(qnew)  \n",
    "    return Qs"
   ]
  },
  {
   "cell_type": "code",
   "execution_count": 12,
   "metadata": {},
   "outputs": [
    {
     "ename": "NameError",
     "evalue": "name 'curr_forecast' is not defined",
     "output_type": "error",
     "traceback": [
      "\u001b[0;31m---------------------------------------------------------------------------\u001b[0m",
      "\u001b[0;31mNameError\u001b[0m                                 Traceback (most recent call last)",
      "\u001b[0;32m<ipython-input-12-8ed210537c43>\u001b[0m in \u001b[0;36m<module>\u001b[0;34m\u001b[0m\n\u001b[0;32m----> 1\u001b[0;31m \u001b[0mqsahead\u001b[0m\u001b[0;34m(\u001b[0m\u001b[0mcurr_forecast\u001b[0m\u001b[0;34m)\u001b[0m\u001b[0;34m\u001b[0m\u001b[0;34m\u001b[0m\u001b[0m\n\u001b[0m",
      "\u001b[0;31mNameError\u001b[0m: name 'curr_forecast' is not defined"
     ]
    }
   ],
   "source": [
    "qsahead(curr_forecast)"
   ]
  },
  {
   "cell_type": "code",
   "execution_count": null,
   "metadata": {},
   "outputs": [
    {
     "name": "stdout",
     "output_type": "stream",
     "text": [
      "1999-02-12 00:00:00\n",
      "1999-05-03 00:00:00\n",
      "1999-08-06 00:00:00\n",
      "1999-11-03 00:00:00\n",
      "2000-02-09 00:00:00\n",
      "2000-05-05 00:00:00\n",
      "2000-08-04 00:00:00\n",
      "2000-11-02 00:00:00\n",
      "2001-02-01 00:00:00\n",
      "2001-05-03 00:00:00\n",
      "2001-08-03 00:00:00\n",
      "2001-10-29 00:00:00\n",
      "2002-02-04 00:00:00\n",
      "2002-04-22 00:00:00\n",
      "2002-07-22 00:00:00\n",
      "2002-10-23 00:00:00\n",
      "2003-01-27 00:00:00\n",
      "2003-04-24 00:00:00\n",
      "2003-07-23 00:00:00\n"
     ]
    }
   ],
   "source": [
    "for curr_forecast in dates['Deadline to reply'].tolist():\n",
    "    print(curr_forecast)\n",
    "    date_curr =  dates.loc[dates['Deadline to reply']==curr_forecast]['SPF round'].to_string().rsplit(' ', 1)[1]\n",
    "    curr_csv = date_curr+\".csv\"\n",
    "    currq = date_curr[-2:]\n",
    "    df1 = pd.read_csv(curr_csv)  \n",
    "    assumptions_index = df1.index[df1['INFLATION EXPECTATIONS; YEAR-ON-YEAR CHANGE IN HICP']=='ASSUMPTIONS'][0]\n",
    "    df1 = pd.DataFrame(df1.iloc[assumptions_index+1:, :])\n",
    "    if len(df1) == 0:\n",
    "        continue\n",
    "    new_headerdf1 = df1.iloc[0] \n",
    "    df1 = df1[1:] \n",
    "    df1.columns = new_headerdf1\n",
    "    sources_list = np.array(df1['FCT_SOURCE'].unique().astype(int))\n",
    "    allQs = qsahead(curr_forecast)\n",
    "    for each_source in sources_list:\n",
    "        try:\n",
    "            df.loc[(df.SurveyDate == curr_forecast) & (df.Source==each_source),\"CurrentIR\"] = df1.loc[(df1['FCT_SOURCE']== each_source.astype(str))&(df1['TARGET_PERIOD'] == allQs[0]), 'IR'].values\n",
    "        except:\n",
    "            continue\n",
    "        try:\n",
    "            df.loc[(df.SurveyDate == curr_forecast) & (df.Source==each_source),\"IRQ1\"] = df1.loc[(df1['FCT_SOURCE']== each_source.astype(str))&(df1['TARGET_PERIOD'] == allQs[1]), 'IR'].values\n",
    "        except:\n",
    "            continue        \n",
    "        try:\n",
    "            df.loc[(df.SurveyDate == curr_forecast) & (df.Source==each_source),\"IRQ2\"] = df1.loc[(df1['FCT_SOURCE']== each_source.astype(str))&(df1['TARGET_PERIOD'] == allQs[2]), 'IR'].values\n",
    "        except:\n",
    "            continue\n",
    "        try:\n",
    "            df.loc[(df.SurveyDate == curr_forecast) & (df.Source==each_source),\"IRQ3\"] = df1.loc[(df1['FCT_SOURCE']== each_source.astype(str))&(df1['TARGET_PERIOD'] == allQs[3]), 'IR'].values\n",
    "        except:\n",
    "            continue\n",
    "            #df.loc[(df.SurveyDate == curr_forecast) & (df.Source==each_source),\"IRQ4\"] = df1.loc[(df1['FCT_SOURCE']== each_source.astype(str))&(df1['TARGET_PERIOD'] == allQs[4]), 'IR'].values\n",
    "\n",
    "        "
   ]
  },
  {
   "cell_type": "code",
   "execution_count": 48,
   "metadata": {},
   "outputs": [],
   "source": [
    "df4qs = df.drop(['IRQ4'], axis = 1)"
   ]
  },
  {
   "cell_type": "code",
   "execution_count": 52,
   "metadata": {},
   "outputs": [],
   "source": [
    "df4qs = df4qs.dropna()"
   ]
  },
  {
   "cell_type": "code",
   "execution_count": 54,
   "metadata": {},
   "outputs": [
    {
     "data": {
      "text/html": [
       "<div>\n",
       "<style scoped>\n",
       "    .dataframe tbody tr th:only-of-type {\n",
       "        vertical-align: middle;\n",
       "    }\n",
       "\n",
       "    .dataframe tbody tr th {\n",
       "        vertical-align: top;\n",
       "    }\n",
       "\n",
       "    .dataframe thead th {\n",
       "        text-align: right;\n",
       "    }\n",
       "</style>\n",
       "<table border=\"1\" class=\"dataframe\">\n",
       "  <thead>\n",
       "    <tr style=\"text-align: right;\">\n",
       "      <th></th>\n",
       "      <th>SurveyDate</th>\n",
       "      <th>Source</th>\n",
       "      <th>CurrentIR</th>\n",
       "      <th>IRQ1</th>\n",
       "      <th>IRQ2</th>\n",
       "      <th>IRQ3</th>\n",
       "    </tr>\n",
       "  </thead>\n",
       "  <tbody>\n",
       "    <tr>\n",
       "      <th>15</th>\n",
       "      <td>2002-02-04</td>\n",
       "      <td>1</td>\n",
       "      <td>3.25</td>\n",
       "      <td>3</td>\n",
       "      <td>3</td>\n",
       "      <td>3.25</td>\n",
       "    </tr>\n",
       "    <tr>\n",
       "      <th>15</th>\n",
       "      <td>2002-02-04</td>\n",
       "      <td>4</td>\n",
       "      <td>3</td>\n",
       "      <td>3</td>\n",
       "      <td>3</td>\n",
       "      <td>3.25</td>\n",
       "    </tr>\n",
       "    <tr>\n",
       "      <th>15</th>\n",
       "      <td>2002-02-04</td>\n",
       "      <td>10</td>\n",
       "      <td>3</td>\n",
       "      <td>3</td>\n",
       "      <td>3</td>\n",
       "      <td>3.25</td>\n",
       "    </tr>\n",
       "    <tr>\n",
       "      <th>15</th>\n",
       "      <td>2002-02-04</td>\n",
       "      <td>11</td>\n",
       "      <td>3.25</td>\n",
       "      <td>2.75</td>\n",
       "      <td>2.75</td>\n",
       "      <td>3</td>\n",
       "    </tr>\n",
       "    <tr>\n",
       "      <th>15</th>\n",
       "      <td>2002-02-04</td>\n",
       "      <td>14</td>\n",
       "      <td>3.25</td>\n",
       "      <td>2.75</td>\n",
       "      <td>2.75</td>\n",
       "      <td>3.25</td>\n",
       "    </tr>\n",
       "    <tr>\n",
       "      <th>...</th>\n",
       "      <td>...</td>\n",
       "      <td>...</td>\n",
       "      <td>...</td>\n",
       "      <td>...</td>\n",
       "      <td>...</td>\n",
       "      <td>...</td>\n",
       "    </tr>\n",
       "    <tr>\n",
       "      <th>87</th>\n",
       "      <td>2020-01-13</td>\n",
       "      <td>118</td>\n",
       "      <td>0</td>\n",
       "      <td>0</td>\n",
       "      <td>0</td>\n",
       "      <td>0</td>\n",
       "    </tr>\n",
       "    <tr>\n",
       "      <th>87</th>\n",
       "      <td>2020-01-13</td>\n",
       "      <td>119</td>\n",
       "      <td>0</td>\n",
       "      <td>0</td>\n",
       "      <td>0</td>\n",
       "      <td>0</td>\n",
       "    </tr>\n",
       "    <tr>\n",
       "      <th>87</th>\n",
       "      <td>2020-01-13</td>\n",
       "      <td>121</td>\n",
       "      <td>0</td>\n",
       "      <td>0</td>\n",
       "      <td>0</td>\n",
       "      <td>0</td>\n",
       "    </tr>\n",
       "    <tr>\n",
       "      <th>87</th>\n",
       "      <td>2020-01-13</td>\n",
       "      <td>127</td>\n",
       "      <td>0</td>\n",
       "      <td>0</td>\n",
       "      <td>0</td>\n",
       "      <td>0</td>\n",
       "    </tr>\n",
       "    <tr>\n",
       "      <th>87</th>\n",
       "      <td>2020-01-13</td>\n",
       "      <td>128</td>\n",
       "      <td>0</td>\n",
       "      <td>0</td>\n",
       "      <td>0</td>\n",
       "      <td>0</td>\n",
       "    </tr>\n",
       "  </tbody>\n",
       "</table>\n",
       "<p>3669 rows × 6 columns</p>\n",
       "</div>"
      ],
      "text/plain": [
       "   SurveyDate  Source CurrentIR  IRQ1  IRQ2  IRQ3\n",
       "15 2002-02-04       1      3.25     3     3  3.25\n",
       "15 2002-02-04       4         3     3     3  3.25\n",
       "15 2002-02-04      10         3     3     3  3.25\n",
       "15 2002-02-04      11      3.25  2.75  2.75     3\n",
       "15 2002-02-04      14      3.25  2.75  2.75  3.25\n",
       "..        ...     ...       ...   ...   ...   ...\n",
       "87 2020-01-13     118         0     0     0     0\n",
       "87 2020-01-13     119         0     0     0     0\n",
       "87 2020-01-13     121         0     0     0     0\n",
       "87 2020-01-13     127         0     0     0     0\n",
       "87 2020-01-13     128         0     0     0     0\n",
       "\n",
       "[3669 rows x 6 columns]"
      ]
     },
     "execution_count": 54,
     "metadata": {},
     "output_type": "execute_result"
    }
   ],
   "source": [
    "df4qs"
   ]
  },
  {
   "cell_type": "code",
   "execution_count": 56,
   "metadata": {},
   "outputs": [
    {
     "data": {
      "text/plain": [
       "[<matplotlib.lines.Line2D at 0x7f9fdae800d0>]"
      ]
     },
     "execution_count": 56,
     "metadata": {},
     "output_type": "execute_result"
    },
    {
     "data": {
      "image/png": "[encoded data removed]",
      "text/plain": [
       "<Figure size 1800x1440 with 4 Axes>"
      ]
     },
     "metadata": {},
     "output_type": "display_data"
    }
   ],
   "source": [
    "sns.set()\n",
    "fig, axs = plt.subplots(2, 2, figsize=(25, 20))\n",
    "axs[0,0].plot(df4qs['CurrentIR'].dropna().astype(float))\n",
    "axs[0,1].plot(df4qs['IRQ1'].dropna().astype(float))\n",
    "axs[1,0].plot(df4qs['IRQ2'].dropna().astype(float))\n",
    "axs[1,1].plot(df4qs['IRQ3'].dropna().astype(float))"
   ]
  },
  {
   "cell_type": "code",
   "execution_count": 57,
   "metadata": {},
   "outputs": [],
   "source": [
    "df.to_pickle('PRate.pkl')"
   ]
  },
  {
   "cell_type": "code",
   "execution_count": null,
   "metadata": {},
   "outputs": [],
   "source": []
  }
 ],
 "metadata": {
  "kernelspec": {
   "display_name": "Python 3",
   "language": "python",
   "name": "python3"
  },
  "language_info": {
   "codemirror_mode": {
    "name": "ipython",
    "version": 3
   },
   "file_extension": ".py",
   "mimetype": "text/x-python",
   "name": "python",
   "nbconvert_exporter": "python",
   "pygments_lexer": "ipython3",
   "version": "3.7.7"
  }
 },
 "nbformat": 4,
 "nbformat_minor": 4
}
